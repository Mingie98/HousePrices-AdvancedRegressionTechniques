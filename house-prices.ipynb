{
 "cells": [
  {
   "cell_type": "code",
   "execution_count": 1,
   "id": "eb3dea78",
   "metadata": {
    "_cell_guid": "b1076dfc-b9ad-4769-8c92-a6c4dae69d19",
    "_uuid": "8f2839f25d086af736a60e9eeb907d3b93b6e0e5",
    "execution": {
     "iopub.execute_input": "2024-03-04T00:52:17.055320Z",
     "iopub.status.busy": "2024-03-04T00:52:17.054342Z",
     "iopub.status.idle": "2024-03-04T00:52:18.157810Z",
     "shell.execute_reply": "2024-03-04T00:52:18.156100Z"
    },
    "papermill": {
     "duration": 1.114877,
     "end_time": "2024-03-04T00:52:18.161301",
     "exception": false,
     "start_time": "2024-03-04T00:52:17.046424",
     "status": "completed"
    },
    "tags": []
   },
   "outputs": [
    {
     "name": "stdout",
     "output_type": "stream",
     "text": [
      "/kaggle/input/house-prices-advanced-regression-techniques/sample_submission.csv\n",
      "/kaggle/input/house-prices-advanced-regression-techniques/data_description.txt\n",
      "/kaggle/input/house-prices-advanced-regression-techniques/train.csv\n",
      "/kaggle/input/house-prices-advanced-regression-techniques/test.csv\n"
     ]
    }
   ],
   "source": [
    "# This Python 3 environment comes with many helpful analytics libraries installed\n",
    "# It is defined by the kaggle/python Docker image: https://github.com/kaggle/docker-python\n",
    "# For example, here's several helpful packages to load\n",
    "\n",
    "import numpy as np # linear algebra\n",
    "import pandas as pd # data processing, CSV file I/O (e.g. pd.read_csv)\n",
    "\n",
    "# Input data files are available in the read-only \"../input/\" directory\n",
    "# For example, running this (by clicking run or pressing Shift+Enter) will list all files under the input directory\n",
    "\n",
    "import os\n",
    "for dirname, _, filenames in os.walk('/kaggle/input'):\n",
    "    for filename in filenames:\n",
    "        print(os.path.join(dirname, filename))\n",
    "\n",
    "# You can write up to 20GB to the current directory (/kaggle/working/) that gets preserved as output when you create a version using \"Save & Run All\" \n",
    "# You can also write temporary files to /kaggle/temp/, but they won't be saved outside of the current session"
   ]
  },
  {
   "cell_type": "code",
   "execution_count": 2,
   "id": "0dff2595",
   "metadata": {
    "execution": {
     "iopub.execute_input": "2024-03-04T00:52:18.176689Z",
     "iopub.status.busy": "2024-03-04T00:52:18.175979Z",
     "iopub.status.idle": "2024-03-04T00:52:21.415511Z",
     "shell.execute_reply": "2024-03-04T00:52:21.414337Z"
    },
    "papermill": {
     "duration": 3.250155,
     "end_time": "2024-03-04T00:52:21.418128",
     "exception": false,
     "start_time": "2024-03-04T00:52:18.167973",
     "status": "completed"
    },
    "tags": []
   },
   "outputs": [],
   "source": [
    "#!pip install ydata-profiling\n",
    "#import ydata_profiling as pdp\n",
    "import numpy as np\n",
    "import pandas as pd\n",
    "import os \n",
    "import pickle\n",
    "import gc\n",
    "import matplotlib.pyplot as plt\n",
    "from sklearn.preprocessing import StandardScaler, MinMaxScaler, LabelEncoder,OneHotEncoder\n",
    "from sklearn.model_selection import train_test_split, KFold\n",
    "from sklearn.metrics import mean_squared_error\n",
    "from math import sqrt\n",
    "import lightgbm as lgb\n",
    "\n",
    "import warnings \n",
    "warnings. filterwarnings('ignore')"
   ]
  },
  {
   "cell_type": "code",
   "execution_count": 3,
   "id": "a1156ff7",
   "metadata": {
    "execution": {
     "iopub.execute_input": "2024-03-04T00:52:21.433391Z",
     "iopub.status.busy": "2024-03-04T00:52:21.432168Z",
     "iopub.status.idle": "2024-03-04T00:52:21.550820Z",
     "shell.execute_reply": "2024-03-04T00:52:21.549442Z"
    },
    "papermill": {
     "duration": 0.129014,
     "end_time": "2024-03-04T00:52:21.553506",
     "exception": false,
     "start_time": "2024-03-04T00:52:21.424492",
     "status": "completed"
    },
    "tags": []
   },
   "outputs": [],
   "source": [
    "# データの読み込み\n",
    "df_train = pd.read_csv('../input/house-prices-advanced-regression-techniques/train.csv')\n",
    "df_test = pd.read_csv('../input/house-prices-advanced-regression-techniques/test.csv')\n",
    "\n",
    "# 訓練データとテストデータを識別するための列を追加\n",
    "df_train['Type'] = 'train'\n",
    "df_test['Type'] = 'test'\n",
    "\n",
    "# SalePrice列がテストデータには存在しないため、ダミーで追加\n",
    "df_test['SalePrice'] = None\n",
    "\n",
    "# 訓練データとテストデータの結合\n",
    "df_all = pd.concat([df_train, df_test], sort=False)"
   ]
  },
  {
   "cell_type": "code",
   "execution_count": 4,
   "id": "23969fdb",
   "metadata": {
    "execution": {
     "iopub.execute_input": "2024-03-04T00:52:21.567352Z",
     "iopub.status.busy": "2024-03-04T00:52:21.566880Z",
     "iopub.status.idle": "2024-03-04T00:52:21.584665Z",
     "shell.execute_reply": "2024-03-04T00:52:21.583400Z"
    },
    "papermill": {
     "duration": 0.027874,
     "end_time": "2024-03-04T00:52:21.587478",
     "exception": false,
     "start_time": "2024-03-04T00:52:21.559604",
     "status": "completed"
    },
    "tags": []
   },
   "outputs": [],
   "source": [
    "#1) LotFrontage欠損値をNeiborhood毎の平均値で埋める\n",
    "LotFrontage_fill = df_all.groupby('Neighborhood')['LotFrontage'].transform('mean')\n",
    "df_all['LotFrontage'].fillna(LotFrontage_fill,inplace=True)\n",
    "\n",
    "\n",
    "\n",
    "# 外れ値の処理"
   ]
  },
  {
   "cell_type": "code",
   "execution_count": 5,
   "id": "1bb69b62",
   "metadata": {
    "execution": {
     "iopub.execute_input": "2024-03-04T00:52:21.601440Z",
     "iopub.status.busy": "2024-03-04T00:52:21.600975Z",
     "iopub.status.idle": "2024-03-04T00:52:21.674492Z",
     "shell.execute_reply": "2024-03-04T00:52:21.672945Z"
    },
    "papermill": {
     "duration": 0.083564,
     "end_time": "2024-03-04T00:52:21.677121",
     "exception": false,
     "start_time": "2024-03-04T00:52:21.593557",
     "status": "completed"
    },
    "tags": []
   },
   "outputs": [
    {
     "name": "stdout",
     "output_type": "stream",
     "text": [
      "(1460, 78) (1460,) (1460,)\n"
     ]
    }
   ],
   "source": [
    "# 数字の特徴量リスト\n",
    "number_columns = ['LotFrontage','1stFlrSF','OverallQual','YearBuilt','YearRemodAdd',\n",
    "                  'BsmtFinSF1','BsmtUnfSF','TotalBsmtSF','2ndFlrSF','GrLivArea',\n",
    "                  'BsmtFullBath','BsmtHalfBath','FullBath','HalfBath','BedroomAbvGr',\n",
    "                  'KitchenAbvGr','TotRmsAbvGrd','Fireplaces','GarageArea','MoSold',\n",
    "                  'YrSold','MSSubClass','LotArea','MasVnrArea','LowQualFinSF',\n",
    "                  'OpenPorchSF','OverallCond','BsmtFinSF2','GarageYrBlt',\n",
    "                  'GarageCars','WoodDeckSF','EnclosedPorch','3SsnPorch','ScreenPorch',\n",
    "                  'PoolArea','MiscVal']\n",
    "\n",
    "# カテゴリ変数を指定したい列のリスト\n",
    "categorical_columns = [\n",
    "    'MSZoning', 'LotShape', 'Neighborhood', 'BldgType', 'HouseStyle',\n",
    "    'Exterior1st', 'HeatingQC', 'CentralAir', 'KitchenQual', 'SaleCondition',\n",
    "    'GarageType', 'GarageFinish', 'Condition1', 'LandContour', 'PavedDrive',\n",
    "    'Street', 'Alley', 'Utilities', 'LotConfig', 'LandSlope', 'Condition2',\n",
    "    'RoofStyle', 'RoofMatl', 'Exterior2nd', 'MasVnrType', 'ExterQual',\n",
    "    'ExterCond', 'Foundation', 'BsmtCond', 'BsmtExposure', 'BsmtFinType1',\n",
    "    'BsmtFinType2', 'Heating', 'Electrical', 'Functional', 'FireplaceQu',\n",
    "    'GarageQual', 'GarageCond', 'PoolQC', 'Fence', 'MiscFeature', 'SaleType'\n",
    "]\n",
    "\n",
    "# Convert specified columns to category type\n",
    "categorical_cols = df_all.select_dtypes(include=['object']).columns\n",
    "df_all[categorical_cols] = df_all[categorical_cols].fillna('Unknown')\n",
    "\n",
    "\n",
    "\n",
    "# 訓練データとテストデータを分離\n",
    "df_train_processed = df_all[df_all['Type'] == 'train'].drop(columns=['Type'])\n",
    "df_test_processed = df_all[df_all['Type'] == 'test'].drop(columns=['Type', 'SalePrice'])\n",
    "\n",
    "\n",
    "# Combine the lists of numerical and categorical columns\n",
    "all_columns = number_columns + categorical_columns\n",
    "\n",
    "# Correctly select columns for x_train, and select 'SalePrice' and 'Id' for y_train and id_train respectively\n",
    "x_train = df_train[all_columns]  # Use single brackets with the variable holding the list of column names\n",
    "y_train = df_train['SalePrice']\n",
    "id_train = df_train['Id']\n",
    "\n",
    "# Print the shapes of the DataFrames/series\n",
    "print(x_train.shape, y_train.shape, id_train.shape)"
   ]
  },
  {
   "cell_type": "code",
   "execution_count": 6,
   "id": "ed36f97b",
   "metadata": {
    "execution": {
     "iopub.execute_input": "2024-03-04T00:52:21.691479Z",
     "iopub.status.busy": "2024-03-04T00:52:21.691086Z",
     "iopub.status.idle": "2024-03-04T00:52:29.292914Z",
     "shell.execute_reply": "2024-03-04T00:52:29.291627Z"
    },
    "papermill": {
     "duration": 7.61234,
     "end_time": "2024-03-04T00:52:29.295638",
     "exception": false,
     "start_time": "2024-03-04T00:52:21.683298",
     "status": "completed"
    },
    "tags": []
   },
   "outputs": [
    {
     "name": "stdout",
     "output_type": "stream",
     "text": [
      "-------------------- 0 --------------------\n",
      "(934, 78) (934,)\n",
      "(234, 78) (234,)\n",
      "y_train:180717.069, y_tr:182244.217, y_va:174621.530\n",
      "[LightGBM] [Info] Auto-choosing row-wise multi-threading, the overhead of testing was 0.003726 seconds.\n",
      "You can set `force_row_wise=true` to remove the overhead.\n",
      "And if memory is not enough, you can set `force_col_wise=true`.\n",
      "[LightGBM] [Info] Total Bins 2908\n",
      "[LightGBM] [Info] Number of data points in the train set: 934, number of used features: 73\n",
      "[LightGBM] [Info] Start training from score 182244.217345\n",
      "Training until validation scores don't improve for 100 rounds\n",
      "Early stopping, best iteration is:\n",
      "[2492]\ttraining's rmse: 46.2239\tvalid_1's rmse: 23651.4\n",
      "[RMSE] tr:46.22, va:23651.41\n",
      "-------------------- 1 --------------------\n",
      "(934, 78) (934,)\n",
      "(234, 78) (234,)\n",
      "y_train:180717.069, y_tr:179798.290, y_va:184384.333\n",
      "[LightGBM] [Info] Auto-choosing row-wise multi-threading, the overhead of testing was 0.000919 seconds.\n",
      "You can set `force_row_wise=true` to remove the overhead.\n",
      "And if memory is not enough, you can set `force_col_wise=true`.\n",
      "[LightGBM] [Info] Total Bins 2925\n",
      "[LightGBM] [Info] Number of data points in the train set: 934, number of used features: 73\n",
      "[LightGBM] [Info] Start training from score 179798.290150\n",
      "Training until validation scores don't improve for 100 rounds\n",
      "Early stopping, best iteration is:\n",
      "[86]\ttraining's rmse: 13374.9\tvalid_1's rmse: 26529.1\n",
      "[RMSE] tr:13374.88, va:26529.07\n",
      "-------------------- 2 --------------------\n",
      "(934, 78) (934,)\n",
      "(234, 78) (234,)\n",
      "y_train:180717.069, y_tr:181403.183, y_va:177978.479\n",
      "[LightGBM] [Info] Auto-choosing row-wise multi-threading, the overhead of testing was 0.000751 seconds.\n",
      "You can set `force_row_wise=true` to remove the overhead.\n",
      "And if memory is not enough, you can set `force_col_wise=true`.\n",
      "[LightGBM] [Info] Total Bins 2922\n",
      "[LightGBM] [Info] Number of data points in the train set: 934, number of used features: 74\n",
      "[LightGBM] [Info] Start training from score 181403.183084\n",
      "Training until validation scores don't improve for 100 rounds\n",
      "Early stopping, best iteration is:\n",
      "[46]\ttraining's rmse: 18802.7\tvalid_1's rmse: 26751.1\n",
      "[RMSE] tr:18802.72, va:26751.14\n",
      "-------------------- 3 --------------------\n",
      "(935, 78) (935,)\n",
      "(233, 78) (233,)\n",
      "y_train:180717.069, y_tr:178492.536, y_va:189643.845\n",
      "[LightGBM] [Info] Auto-choosing row-wise multi-threading, the overhead of testing was 0.000782 seconds.\n",
      "You can set `force_row_wise=true` to remove the overhead.\n",
      "And if memory is not enough, you can set `force_col_wise=true`.\n",
      "[LightGBM] [Info] Total Bins 2929\n",
      "[LightGBM] [Info] Number of data points in the train set: 935, number of used features: 74\n",
      "[LightGBM] [Info] Start training from score 178492.535829\n",
      "Training until validation scores don't improve for 100 rounds\n",
      "Early stopping, best iteration is:\n",
      "[45]\ttraining's rmse: 19144.1\tvalid_1's rmse: 29244.8\n",
      "[RMSE] tr:19144.12, va:29244.77\n",
      "-------------------- 4 --------------------\n",
      "(935, 78) (935,)\n",
      "(233, 78) (233,)\n",
      "y_train:180717.069, y_tr:181648.505, y_va:176979.335\n",
      "[LightGBM] [Info] Auto-choosing row-wise multi-threading, the overhead of testing was 0.000806 seconds.\n",
      "You can set `force_row_wise=true` to remove the overhead.\n",
      "And if memory is not enough, you can set `force_col_wise=true`.\n",
      "[LightGBM] [Info] Total Bins 2929\n",
      "[LightGBM] [Info] Number of data points in the train set: 935, number of used features: 73\n",
      "[LightGBM] [Info] Start training from score 181648.504813\n",
      "Training until validation scores don't improve for 100 rounds\n",
      "Early stopping, best iteration is:\n",
      "[140]\ttraining's rmse: 7844.23\tvalid_1's rmse: 35144\n",
      "[RMSE] tr:7844.23, va:35143.98\n",
      "-------------------- result --------------------\n",
      "[[0.00000000e+00 4.62239437e+01 2.36514112e+04]\n",
      " [1.00000000e+00 1.33748752e+04 2.65290652e+04]\n",
      " [2.00000000e+00 1.88027229e+04 2.67511367e+04]\n",
      " [3.00000000e+00 1.91441233e+04 2.92447741e+04]\n",
      " [4.00000000e+00 7.84423137e+03 3.51439768e+04]]\n",
      "[cv] tr:11842.44+-7200.62, va:28264.07+-3869.64\n",
      "Done.\n"
     ]
    }
   ],
   "source": [
    "#モデル学習の実行 （CV）\n",
    "\n",
    "# 特徴量とターゲットの分割\n",
    "x_train, x_valid, y_train, y_valid = train_test_split(df_train[all_columns], \n",
    "                                                      df_train['SalePrice'], \n",
    "                                                      test_size=0.2, \n",
    "                                                      random_state=123)\n",
    "# カテゴリ変数をpd.Categorical型に変換\n",
    "for col in categorical_columns:\n",
    "    x_train[col] = pd.Categorical(x_train[col])\n",
    "    x_valid[col] = pd.Categorical(x_valid[col])\n",
    "\n",
    "# LightGBMのデータセットを作成\n",
    "train_data = lgb.Dataset(x_train, label=y_train, categorical_feature=categorical_columns, free_raw_data=False)\n",
    "valid_data = lgb.Dataset(x_valid, label=y_valid, categorical_feature=categorical_columns, free_raw_data=False)\n",
    "\n",
    "# LightGBMのパラメータ設定\n",
    "params = {\n",
    "    'boosting_type':'gbdt',\n",
    "    'objective': 'regression',\n",
    "    'metric':'rmse',\n",
    "    'learning_rate':0.1,\n",
    "    'num_leaves':16,\n",
    "    'n_estimators':100000,\n",
    "    'random_state':123,\n",
    "    'importance_type':'gain',\n",
    "}\n",
    "\n",
    "metrics = []\n",
    "imp = pd.DataFrame()\n",
    "\n",
    "n_splits = 5 \n",
    "cv = list(KFold(n_splits=n_splits, shuffle=True, random_state=123).split(x_train, y_train))\n",
    "\n",
    "for nfold in np.arange(n_splits):\n",
    "    print(\"-\"*20, nfold, \"-\"*20)\n",
    "    idx_tr, idx_va = cv[nfold][0], cv[nfold][1]\n",
    "    x_tr, y_tr = x_train.iloc[idx_tr, :], y_train.iloc[idx_tr]\n",
    "    x_va, y_va = x_train.iloc[idx_va, :], y_train.iloc[idx_va]\n",
    "    print(x_tr.shape, y_tr.shape)\n",
    "    print(x_va.shape, y_va.shape)\n",
    "    print(\"y_train:{:.3f}, y_tr:{:.3f}, y_va:{:.3f}\".format(\n",
    "        y_train.mean(),\n",
    "        y_tr.mean(),\n",
    "        y_va.mean()\n",
    "    ))\n",
    "\n",
    "    model = lgb.LGBMRegressor(**params)\n",
    "    model.fit(x_tr,\n",
    "              y_tr,\n",
    "              eval_set=[(x_tr, y_tr), (x_va, y_va)],\n",
    "              callbacks=[lgb.early_stopping(stopping_rounds=100, verbose=100)]\n",
    "    )\n",
    "\n",
    "    y_tr_pred = model.predict(x_tr)\n",
    "    y_va_pred = model.predict(x_va)\n",
    "    rmse_tr = mean_squared_error(y_tr, y_tr_pred, squared=False)\n",
    "    rmse_va = mean_squared_error(y_va, y_va_pred, squared=False)\n",
    "\n",
    "    print(\"[RMSE] tr:{:.2f}, va:{:.2f}\".format(rmse_tr, rmse_va))\n",
    "    metrics.append([nfold, rmse_tr, rmse_va])\n",
    "\n",
    "    _imp = pd.DataFrame({\"col\": x_train.columns, \"imp\": model.feature_importances_, \"nfold\": nfold})\n",
    "    imp = pd.concat([imp, _imp], axis=0, ignore_index=True)\n",
    "\n",
    "print(\"-\"*20, 'result', \"-\"*20)\n",
    "metrics = np.array(metrics)\n",
    "print(metrics)\n",
    "\n",
    "print(\"[cv] tr:{:.2f}+-{:.2f}, va:{:.2f}+-{:.2f}\".format(\n",
    "    metrics[:, 1].mean(), metrics[:, 1].std(),\n",
    "    metrics[:, 2].mean(), metrics[:, 2].std(),\n",
    "))\n",
    "\n",
    "imp = imp.groupby('col')['imp'].agg(['mean', 'std'])\n",
    "imp.columns = ['imp', 'imp_std']\n",
    "imp = imp.reset_index(drop=False)\n",
    "\n",
    "print(\"Done.\")\n"
   ]
  },
  {
   "cell_type": "markdown",
   "id": "f6b3c44b",
   "metadata": {
    "papermill": {
     "duration": 0.006547,
     "end_time": "2024-03-04T00:52:29.309291",
     "exception": false,
     "start_time": "2024-03-04T00:52:29.302744",
     "status": "completed"
    },
    "tags": []
   },
   "source": [
    "\n"
   ]
  },
  {
   "cell_type": "code",
   "execution_count": 7,
   "id": "6d2cc247",
   "metadata": {
    "execution": {
     "iopub.execute_input": "2024-03-04T00:52:29.325330Z",
     "iopub.status.busy": "2024-03-04T00:52:29.324459Z",
     "iopub.status.idle": "2024-03-04T00:52:29.370087Z",
     "shell.execute_reply": "2024-03-04T00:52:29.368933Z"
    },
    "papermill": {
     "duration": 0.056815,
     "end_time": "2024-03-04T00:52:29.372949",
     "exception": false,
     "start_time": "2024-03-04T00:52:29.316134",
     "status": "completed"
    },
    "tags": []
   },
   "outputs": [],
   "source": [
    "df_test[categorical_columns] = df_test[categorical_columns].astype('category')\n",
    "all_columns = number_columns + categorical_columns\n",
    "x_test = df_test[all_columns]\n",
    "id_test = df_test[['Id']]"
   ]
  },
  {
   "cell_type": "code",
   "execution_count": 8,
   "id": "02558b2d",
   "metadata": {
    "execution": {
     "iopub.execute_input": "2024-03-04T00:52:29.389846Z",
     "iopub.status.busy": "2024-03-04T00:52:29.388715Z",
     "iopub.status.idle": "2024-03-04T00:52:29.445547Z",
     "shell.execute_reply": "2024-03-04T00:52:29.444115Z"
    },
    "papermill": {
     "duration": 0.068226,
     "end_time": "2024-03-04T00:52:29.448412",
     "exception": false,
     "start_time": "2024-03-04T00:52:29.380186",
     "status": "completed"
    },
    "tags": []
   },
   "outputs": [],
   "source": [
    "y_test_pred = model.predict(x_test)"
   ]
  },
  {
   "cell_type": "code",
   "execution_count": 9,
   "id": "1ecb0a9d",
   "metadata": {
    "execution": {
     "iopub.execute_input": "2024-03-04T00:52:29.466540Z",
     "iopub.status.busy": "2024-03-04T00:52:29.465462Z",
     "iopub.status.idle": "2024-03-04T00:52:29.494604Z",
     "shell.execute_reply": "2024-03-04T00:52:29.493042Z"
    },
    "papermill": {
     "duration": 0.042053,
     "end_time": "2024-03-04T00:52:29.498089",
     "exception": false,
     "start_time": "2024-03-04T00:52:29.456036",
     "status": "completed"
    },
    "tags": []
   },
   "outputs": [
    {
     "data": {
      "text/html": [
       "<div>\n",
       "<style scoped>\n",
       "    .dataframe tbody tr th:only-of-type {\n",
       "        vertical-align: middle;\n",
       "    }\n",
       "\n",
       "    .dataframe tbody tr th {\n",
       "        vertical-align: top;\n",
       "    }\n",
       "\n",
       "    .dataframe thead th {\n",
       "        text-align: right;\n",
       "    }\n",
       "</style>\n",
       "<table border=\"1\" class=\"dataframe\">\n",
       "  <thead>\n",
       "    <tr style=\"text-align: right;\">\n",
       "      <th></th>\n",
       "      <th>Id</th>\n",
       "      <th>SalePrice</th>\n",
       "    </tr>\n",
       "  </thead>\n",
       "  <tbody>\n",
       "    <tr>\n",
       "      <th>0</th>\n",
       "      <td>1461</td>\n",
       "      <td>130157.908783</td>\n",
       "    </tr>\n",
       "    <tr>\n",
       "      <th>1</th>\n",
       "      <td>1462</td>\n",
       "      <td>158346.850700</td>\n",
       "    </tr>\n",
       "    <tr>\n",
       "      <th>2</th>\n",
       "      <td>1463</td>\n",
       "      <td>183518.219607</td>\n",
       "    </tr>\n",
       "    <tr>\n",
       "      <th>3</th>\n",
       "      <td>1464</td>\n",
       "      <td>186253.038543</td>\n",
       "    </tr>\n",
       "    <tr>\n",
       "      <th>4</th>\n",
       "      <td>1465</td>\n",
       "      <td>178993.136046</td>\n",
       "    </tr>\n",
       "  </tbody>\n",
       "</table>\n",
       "</div>"
      ],
      "text/plain": [
       "     Id      SalePrice\n",
       "0  1461  130157.908783\n",
       "1  1462  158346.850700\n",
       "2  1463  183518.219607\n",
       "3  1464  186253.038543\n",
       "4  1465  178993.136046"
      ]
     },
     "metadata": {},
     "output_type": "display_data"
    }
   ],
   "source": [
    "df_submit = pd.DataFrame({\"Id\":id_test[\"Id\"],\"SalePrice\":y_test_pred})\n",
    "display(df_submit.head(5))\n",
    "df_submit.to_csv('submission_baseline.csv', index=None)"
   ]
  },
  {
   "cell_type": "markdown",
   "id": "3cc15652",
   "metadata": {
    "papermill": {
     "duration": 0.008428,
     "end_time": "2024-03-04T00:52:29.516862",
     "exception": false,
     "start_time": "2024-03-04T00:52:29.508434",
     "status": "completed"
    },
    "tags": []
   },
   "source": [
    "目的変数が連続値（金額）である場合、クラスの分布を考慮する必要はなし。stratify=y_trainを削除  \n",
    "ホールドアウト検証かクロスバリデーション検証（CV）は、どちらかでよい。もしくは、両方実施する場合は、x_tr, y_tr、x_va, y_vaの変数設定を別にする様に注意！   \n",
    "目的変数が連続値（金額）なので、CVは、StratifiesKFoldでなくKFold。\n",
    "\n",
    "目的変数が連続値（金額）であるため、'objective':'binary'>**'objective': 'regression'**, LGBMClassifier＞**LGBMRegressor**に変更　  \n",
    "今回のプロジェクトは、Metricは、RMSEに指定されている。\n"
   ]
  },
  {
   "cell_type": "code",
   "execution_count": 10,
   "id": "cb01d473",
   "metadata": {
    "execution": {
     "iopub.execute_input": "2024-03-04T00:52:29.533155Z",
     "iopub.status.busy": "2024-03-04T00:52:29.532728Z",
     "iopub.status.idle": "2024-03-04T00:52:29.550033Z",
     "shell.execute_reply": "2024-03-04T00:52:29.548910Z"
    },
    "papermill": {
     "duration": 0.02909,
     "end_time": "2024-03-04T00:52:29.553147",
     "exception": false,
     "start_time": "2024-03-04T00:52:29.524057",
     "status": "completed"
    },
    "tags": []
   },
   "outputs": [
    {
     "name": "stdout",
     "output_type": "stream",
     "text": [
      "              col           imp       imp_std\n",
      "0     OverallQual  1.563981e+13  1.410518e+12\n",
      "1       GrLivArea  3.001541e+12  3.960087e+11\n",
      "2    Neighborhood  2.303072e+12  4.653068e+11\n",
      "3     TotalBsmtSF  1.887670e+12  5.871634e+11\n",
      "4      BsmtFinSF1  1.641097e+12  3.966003e+11\n",
      "5      GarageCars  1.101739e+12  5.197079e+11\n",
      "6        1stFlrSF  6.657198e+11  1.587354e+11\n",
      "7         LotArea  4.854575e+11  1.132149e+11\n",
      "8      GarageArea  4.186060e+11  1.079270e+11\n",
      "9    TotRmsAbvGrd  3.021082e+11  1.980160e+11\n",
      "10       FullBath  2.706434e+11  1.929864e+11\n",
      "11      YearBuilt  2.429615e+11  8.078000e+10\n",
      "12      ExterQual  2.113840e+11  2.379310e+11\n",
      "13       2ndFlrSF  2.005095e+11  5.686590e+10\n",
      "14    OverallCond  1.745885e+11  2.543394e+10\n",
      "15   YearRemodAdd  1.574614e+11  6.035788e+10\n",
      "16    KitchenQual  1.519501e+11  1.238520e+11\n",
      "17    LotFrontage  1.189107e+11  4.146561e+10\n",
      "18    GarageYrBlt  1.145893e+11  3.998261e+10\n",
      "19    OpenPorchSF  1.115862e+11  4.751512e+10\n",
      "20     Fireplaces  9.176034e+10  1.250811e+10\n",
      "21     WoodDeckSF  8.520308e+10  3.514501e+10\n",
      "22     GarageType  7.924977e+10  6.314281e+10\n",
      "23     MasVnrArea  7.078099e+10  4.374368e+10\n",
      "24      BsmtUnfSF  6.681458e+10  4.134403e+10\n",
      "25     CentralAir  5.813340e+10  3.388301e+10\n",
      "26     MSSubClass  4.972286e+10  3.594600e+10\n",
      "27   GarageFinish  4.896033e+10  3.137904e+10\n",
      "28   BsmtFullBath  4.426880e+10  1.419300e+10\n",
      "29         MoSold  3.877564e+10  1.488842e+10\n",
      "30   BsmtFinType1  3.485421e+10  1.823845e+10\n",
      "31   KitchenAbvGr  2.747516e+10  3.680678e+10\n",
      "32   BsmtExposure  2.704173e+10  1.526843e+10\n",
      "33    ScreenPorch  2.232437e+10  1.369955e+10\n",
      "34       HalfBath  1.830775e+10  9.570518e+09\n",
      "35   BedroomAbvGr  1.776758e+10  1.552278e+10\n",
      "36       LotShape  1.684561e+10  1.780103e+10\n",
      "37    Exterior1st  1.589445e+10  9.996988e+09\n",
      "38    FireplaceQu  1.122698e+10  1.495776e+10\n",
      "39         YrSold  1.119730e+10  8.502572e+09\n",
      "40     Condition1  9.390358e+09  6.830867e+09\n",
      "41       BsmtCond  7.725093e+09  7.194169e+09\n",
      "42     PavedDrive  7.649460e+09  9.272479e+09\n",
      "43     MasVnrType  6.260211e+09  5.490237e+09\n",
      "44      LotConfig  4.857339e+09  6.747447e+09\n",
      "45       MSZoning  4.084453e+09  6.123265e+09\n",
      "46     BsmtFinSF2  3.810937e+09  3.340395e+09\n",
      "47      ExterCond  3.322278e+09  5.363059e+09\n",
      "48      LandSlope  3.045591e+09  2.894024e+09\n",
      "49  EnclosedPorch  2.542329e+09  1.785319e+09\n",
      "50    Exterior2nd  1.900797e+09  2.657397e+09\n",
      "51      HeatingQC  1.625815e+09  3.516172e+09\n",
      "52  SaleCondition  1.532727e+09  3.017836e+09\n",
      "53     HouseStyle  9.801995e+08  8.081597e+08\n",
      "54     GarageQual  7.564380e+08  1.069683e+09\n",
      "55     Foundation  5.299942e+08  7.831557e+08\n",
      "56      RoofStyle  4.030351e+08  7.801922e+08\n",
      "57   BsmtHalfBath  3.598048e+08  7.368677e+08\n",
      "58        MiscVal  3.470338e+08  5.727316e+08\n",
      "59          Fence  1.765941e+08  3.948765e+08\n",
      "60     Electrical  1.693488e+08  3.786753e+08\n",
      "61          Alley  7.797976e+06  1.743681e+07\n",
      "62       SaleType  1.196449e+06  2.675342e+06\n",
      "63    MiscFeature  9.045080e+02  2.022541e+03\n",
      "64         Street  0.000000e+00  0.000000e+00\n",
      "65      Utilities  0.000000e+00  0.000000e+00\n",
      "66      3SsnPorch  0.000000e+00  0.000000e+00\n",
      "67   BsmtFinType2  0.000000e+00  0.000000e+00\n",
      "68       BldgType  0.000000e+00  0.000000e+00\n",
      "69     Condition2  0.000000e+00  0.000000e+00\n",
      "70       RoofMatl  0.000000e+00  0.000000e+00\n",
      "71         PoolQC  0.000000e+00  0.000000e+00\n",
      "72       PoolArea  0.000000e+00  0.000000e+00\n",
      "73   LowQualFinSF  0.000000e+00  0.000000e+00\n",
      "74     Functional  0.000000e+00  0.000000e+00\n",
      "75    LandContour  0.000000e+00  0.000000e+00\n",
      "76     GarageCond  0.000000e+00  0.000000e+00\n",
      "77        Heating  0.000000e+00  0.000000e+00\n"
     ]
    }
   ],
   "source": [
    "# Pandasの表示オプションを設定\n",
    "pd.set_option('display.max_rows', None)  # 行数の最大表示数を無制限に設定\n",
    "\n",
    "# 説明変数の重要度を降順で表示\n",
    "print(imp.sort_values('imp', ascending=False, ignore_index=True))"
   ]
  },
  {
   "cell_type": "code",
   "execution_count": 11,
   "id": "87b5a6b0",
   "metadata": {
    "execution": {
     "iopub.execute_input": "2024-03-04T00:52:29.570092Z",
     "iopub.status.busy": "2024-03-04T00:52:29.569285Z",
     "iopub.status.idle": "2024-03-04T00:52:29.585090Z",
     "shell.execute_reply": "2024-03-04T00:52:29.583934Z"
    },
    "papermill": {
     "duration": 0.027179,
     "end_time": "2024-03-04T00:52:29.587662",
     "exception": false,
     "start_time": "2024-03-04T00:52:29.560483",
     "status": "completed"
    },
    "tags": []
   },
   "outputs": [
    {
     "name": "stdout",
     "output_type": "stream",
     "text": [
      "   Id  MSSubClass MSZoning  LotFrontage  LotArea Street    Alley LotShape  \\\n",
      "0   1          60       RL         65.0     8450   Pave  Unknown      Reg   \n",
      "1   2          20       RL         80.0     9600   Pave  Unknown      Reg   \n",
      "2   3          60       RL         68.0    11250   Pave  Unknown      IR1   \n",
      "3   4          70       RL         60.0     9550   Pave  Unknown      IR1   \n",
      "4   5          60       RL         84.0    14260   Pave  Unknown      IR1   \n",
      "\n",
      "  LandContour Utilities  ... PoolArea   PoolQC    Fence MiscFeature MiscVal  \\\n",
      "0         Lvl    AllPub  ...        0  Unknown  Unknown     Unknown       0   \n",
      "1         Lvl    AllPub  ...        0  Unknown  Unknown     Unknown       0   \n",
      "2         Lvl    AllPub  ...        0  Unknown  Unknown     Unknown       0   \n",
      "3         Lvl    AllPub  ...        0  Unknown  Unknown     Unknown       0   \n",
      "4         Lvl    AllPub  ...        0  Unknown  Unknown     Unknown       0   \n",
      "\n",
      "  MoSold YrSold  SaleType  SaleCondition  SalePrice  \n",
      "0      2   2008        WD         Normal     208500  \n",
      "1      5   2007        WD         Normal     181500  \n",
      "2      9   2008        WD         Normal     223500  \n",
      "3      2   2006        WD        Abnorml     140000  \n",
      "4     12   2008        WD         Normal     250000  \n",
      "\n",
      "[5 rows x 81 columns]\n"
     ]
    }
   ],
   "source": [
    "print(df_train_processed.head())"
   ]
  },
  {
   "cell_type": "code",
   "execution_count": 12,
   "id": "802b6894",
   "metadata": {
    "execution": {
     "iopub.execute_input": "2024-03-04T00:52:29.605515Z",
     "iopub.status.busy": "2024-03-04T00:52:29.604707Z",
     "iopub.status.idle": "2024-03-04T00:52:29.621164Z",
     "shell.execute_reply": "2024-03-04T00:52:29.619955Z"
    },
    "papermill": {
     "duration": 0.028726,
     "end_time": "2024-03-04T00:52:29.624157",
     "exception": false,
     "start_time": "2024-03-04T00:52:29.595431",
     "status": "completed"
    },
    "tags": []
   },
   "outputs": [
    {
     "name": "stdout",
     "output_type": "stream",
     "text": [
      "     Id  MSSubClass MSZoning  LotFrontage  LotArea Street    Alley LotShape  \\\n",
      "0  1461          20       RH         80.0    11622   Pave  Unknown      Reg   \n",
      "1  1462          20       RL         81.0    14267   Pave  Unknown      IR1   \n",
      "2  1463          60       RL         74.0    13830   Pave  Unknown      IR1   \n",
      "3  1464          60       RL         78.0     9978   Pave  Unknown      IR1   \n",
      "4  1465         120       RL         43.0     5005   Pave  Unknown      IR1   \n",
      "\n",
      "  LandContour Utilities  ... ScreenPorch PoolArea   PoolQC    Fence  \\\n",
      "0         Lvl    AllPub  ...         120        0  Unknown    MnPrv   \n",
      "1         Lvl    AllPub  ...           0        0  Unknown  Unknown   \n",
      "2         Lvl    AllPub  ...           0        0  Unknown    MnPrv   \n",
      "3         Lvl    AllPub  ...           0        0  Unknown  Unknown   \n",
      "4         HLS    AllPub  ...         144        0  Unknown  Unknown   \n",
      "\n",
      "  MiscFeature MiscVal MoSold  YrSold  SaleType  SaleCondition  \n",
      "0     Unknown       0      6    2010        WD         Normal  \n",
      "1        Gar2   12500      6    2010        WD         Normal  \n",
      "2     Unknown       0      3    2010        WD         Normal  \n",
      "3     Unknown       0      6    2010        WD         Normal  \n",
      "4     Unknown       0      1    2010        WD         Normal  \n",
      "\n",
      "[5 rows x 80 columns]\n"
     ]
    }
   ],
   "source": [
    "print(df_test_processed.head())"
   ]
  },
  {
   "cell_type": "code",
   "execution_count": null,
   "id": "0f34148e",
   "metadata": {
    "papermill": {
     "duration": 0.007606,
     "end_time": "2024-03-04T00:52:29.640350",
     "exception": false,
     "start_time": "2024-03-04T00:52:29.632744",
     "status": "completed"
    },
    "tags": []
   },
   "outputs": [],
   "source": []
  }
 ],
 "metadata": {
  "kaggle": {
   "accelerator": "none",
   "dataSources": [
    {
     "databundleVersionId": 868283,
     "sourceId": 5407,
     "sourceType": "competition"
    }
   ],
   "dockerImageVersionId": 30646,
   "isGpuEnabled": false,
   "isInternetEnabled": true,
   "language": "python",
   "sourceType": "notebook"
  },
  "kernelspec": {
   "display_name": "Python 3",
   "language": "python",
   "name": "python3"
  },
  "language_info": {
   "codemirror_mode": {
    "name": "ipython",
    "version": 3
   },
   "file_extension": ".py",
   "mimetype": "text/x-python",
   "name": "python",
   "nbconvert_exporter": "python",
   "pygments_lexer": "ipython3",
   "version": "3.10.13"
  },
  "papermill": {
   "default_parameters": {},
   "duration": 16.599911,
   "end_time": "2024-03-04T00:52:30.370371",
   "environment_variables": {},
   "exception": null,
   "input_path": "__notebook__.ipynb",
   "output_path": "__notebook__.ipynb",
   "parameters": {},
   "start_time": "2024-03-04T00:52:13.770460",
   "version": "2.5.0"
  }
 },
 "nbformat": 4,
 "nbformat_minor": 5
}
